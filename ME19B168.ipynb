{
  "nbformat": 4,
  "nbformat_minor": 0,
  "metadata": {
    "colab": {
      "provenance": []
    },
    "kernelspec": {
      "name": "python3",
      "display_name": "Python 3"
    },
    "language_info": {
      "name": "python"
    }
  },
  "cells": [
    {
      "cell_type": "code",
      "execution_count": 1,
      "metadata": {
        "id": "Uj-ovOzis8pa"
      },
      "outputs": [],
      "source": [
        "import numpy as np\n",
        "import pandas as pd\n",
        "import matplotlib.pyplot as plt\n",
        "\n",
        "from keras.datasets import fashion_mnist"
      ]
    },
    {
      "cell_type": "code",
      "source": [
        "(xtrain, ytrain), (xtest, ytest) = fashion_mnist.load_data()\n",
        "print('X Train Shape: ', xtrain.shape)\n",
        "print('X Test Shape: ', xtest.shape)\n",
        "print('Y Train Shape: ', ytrain.shape)\n",
        "print('Y Test Shape: ', ytest.shape)\n",
        "print('Number of classes: ', len(set(ytrain)))\n",
        "\n",
        "class_labels = {0: 'T-Shirt',\n",
        "                1: 'Trouser',\n",
        "                2: 'Pullover',\n",
        "                3: 'Dress',\n",
        "                4: 'Coat',\n",
        "                5: 'Sandal',\n",
        "                6: 'Shirt',\n",
        "                7: 'Sneaker',\n",
        "                8: 'Bag',\n",
        "                9: 'Ankle Boot'}"
      ],
      "metadata": {
        "colab": {
          "base_uri": "https://localhost:8080/"
        },
        "id": "1_GBiXg7t6SE",
        "outputId": "5f8772f0-b4d3-434c-b41b-85ac994b7675"
      },
      "execution_count": 2,
      "outputs": [
        {
          "output_type": "stream",
          "name": "stdout",
          "text": [
            "Downloading data from https://storage.googleapis.com/tensorflow/tf-keras-datasets/train-labels-idx1-ubyte.gz\n",
            "29515/29515 [==============================] - 0s 0us/step\n",
            "Downloading data from https://storage.googleapis.com/tensorflow/tf-keras-datasets/train-images-idx3-ubyte.gz\n",
            "26421880/26421880 [==============================] - 0s 0us/step\n",
            "Downloading data from https://storage.googleapis.com/tensorflow/tf-keras-datasets/t10k-labels-idx1-ubyte.gz\n",
            "5148/5148 [==============================] - 0s 0us/step\n",
            "Downloading data from https://storage.googleapis.com/tensorflow/tf-keras-datasets/t10k-images-idx3-ubyte.gz\n",
            "4422102/4422102 [==============================] - 0s 0us/step\n",
            "X Train Shape:  (60000, 28, 28)\n",
            "X Test Shape:  (10000, 28, 28)\n",
            "Y Train Shape:  (60000,)\n",
            "Y Test Shape:  (10000,)\n",
            "Number of classes:  10\n"
          ]
        }
      ]
    },
    {
      "cell_type": "code",
      "source": [
        "xtrain_inp = xtrain.reshape((xtrain.shape[0], -1))/255\n",
        "xtest_inp = xtest.reshape((xtest.shape[0], -1))/255\n",
        "ytrain_inp = np.array(pd.get_dummies(ytrain))\n",
        "ytest_inp = np.array(pd.get_dummies(ytest))"
      ],
      "metadata": {
        "id": "xLpT3k3vuJIX"
      },
      "execution_count": 3,
      "outputs": []
    },
    {
      "cell_type": "markdown",
      "source": [
        "# Question 1"
      ],
      "metadata": {
        "id": "qQA02Z_XtdRr"
      }
    },
    {
      "cell_type": "code",
      "source": [
        "i = 5 # can change to view different images\n",
        "idxs = {k:np.where(ytrain==k)[0][i] for k in set(ytrain)}\n",
        "fig, axs = plt.subplots(2, 5, figsize=(15,5))\n",
        "for i, ax in enumerate(axs.flatten()):\n",
        "  ax.imshow(xtrain[idxs[i], :, :], cmap='gray')\n",
        "  ax.set_title(class_labels[i])\n",
        "  ax.axis('off')"
      ],
      "metadata": {
        "colab": {
          "base_uri": "https://localhost:8080/",
          "height": 319
        },
        "id": "PCl0Riy4uHSG",
        "outputId": "02d1bfda-aec0-4665-bc01-036938eedc64"
      },
      "execution_count": 4,
      "outputs": [
        {
          "output_type": "display_data",
          "data": {
            "text/plain": [
              "<Figure size 1080x360 with 10 Axes>"
            ],
            "image/png": "[encoded data removed]"
          },
          "metadata": {
            "needs_background": "light"
          }
        }
      ]
    },
    {
      "cell_type": "markdown",
      "source": [
        "## Helper Functions"
      ],
      "metadata": {
        "id": "_cJOMDhjuj5p"
      }
    },
    {
      "cell_type": "code",
      "source": [
        "def sigmoid(x):\n",
        "  return 1/(1+np.exp(-x))\n",
        "\n",
        "def sigmoid_der(x):\n",
        "  return sigmoid(x) * (1-sigmoid(x))\n",
        "\n",
        "def relu(x):\n",
        "  return np.maximum(0, x)\n",
        "\n",
        "def relu_der(x):\n",
        "  x[x>0] = 1\n",
        "  x[x<=0] = 0\n",
        "  return x\n",
        "\n",
        "def tanh(x):\n",
        "  return (np.exp(x) - np.exp(-x)) / (np.exp(x) + np.exp(-x))\n",
        "\n",
        "def tanh_der(x):\n",
        "  return 1 - tanh(x) ** 2\n",
        "\n",
        "def identity(x):\n",
        "  return x\n",
        "\n",
        "def identity_der(x):\n",
        "  return np.ones(x.shape)\n",
        "\n",
        "def get_activation(act):\n",
        "  if act == 'sigmoid':\n",
        "    act = sigmoid\n",
        "    act_der = sigmoid_der\n",
        "  elif act == 'ReLU':\n",
        "    act = relu\n",
        "    act_der = relu_der\n",
        "  elif act== 'tanh':\n",
        "    act = tanh\n",
        "    act_der = tanh_der\n",
        "  elif act == 'identity':\n",
        "    act = identity\n",
        "    act_der = identity_der\n",
        "  else:\n",
        "    raise Exception('Incorrect Activation Function')\n",
        "  return act, act_der\n",
        "\n",
        "def softmax(x):\n",
        "  xsum = np.sum(np.exp(x), axis=1, keepdims=True)\n",
        "  res = np.exp(x)/xsum\n",
        "  return res\n",
        "\n",
        "def cross_entropy(y, yhat):\n",
        "  \"\"\" \n",
        "  Returns Average Cross Entropy Loss over the input data points\n",
        "  - Epsilon is used so that log is not taken over 0\n",
        "  \"\"\"\n",
        "  epsilon = 1e-30\n",
        "  losses = -np.sum(y * np.log(yhat + epsilon), axis=1)\n",
        "  return np.mean(losses)\n",
        "\n",
        "def cross_entropy_der(y, yhat):\n",
        "  return -(y - yhat)\n",
        "\n",
        "def mean_squared_error(y, yhat):\n",
        "  return np.mean(np.sum((y-yhat)**2, axis=1))\n",
        "\n",
        "def mean_squared_error_der(y, yhat):\n",
        "  pass\n",
        "\n",
        "def accuracy(y, yhat):\n",
        "  return np.sum(np.argmax(y, axis=1) ==  np.argmax(yhat, axis=1))"
      ],
      "metadata": {
        "id": "Swh1ShRbujQ0"
      },
      "execution_count": 12,
      "outputs": []
    },
    {
      "cell_type": "markdown",
      "source": [
        "# Question 2"
      ],
      "metadata": {
        "id": "aGoV6G1NyLon"
      }
    },
    {
      "cell_type": "code",
      "source": [
        "def init_params(n_inp, n_hidden, n_out, seed=None):\n",
        "  if seed is not None:\n",
        "    np.random.seed(seed)\n",
        "  NN = [n_inp] + n_hidden + [n_out]\n",
        "  params = {}\n",
        "  for i in range(1, len(NN)):\n",
        "    params['W' + str(i)] = np.random.randn(NN[i-1], NN[i]) * 0.01\n",
        "    params['B' + str(i)] = np.zeros((1, NN[i]))\n",
        "  return params\n",
        "\n",
        "def forward(inp, params, activation):\n",
        "  L = len(params) // 2\n",
        "  cache = {'H0':inp}\n",
        "  for i in range(1, L+1):\n",
        "    cache['A' + str(i)] = cache['H' + str(i-1)] @ params['W' + str(i)] + params['B' + str(i)]\n",
        "    cache['H' + str(i)] = sigmoid(cache['A' + str(i)])\n",
        "  cache['A' + str(L)] = cache['H' + str(L-1)] @ params['W' + str(L)] + params['B' + str(L)]\n",
        "  cache['H' + str(L)] = softmax(cache['A' + str(L)])\n",
        "  yhat = cache['H' + str(L)]\n",
        "  return yhat, cache"
      ],
      "metadata": {
        "id": "xd-5vdzBuW52"
      },
      "execution_count": 13,
      "outputs": []
    },
    {
      "cell_type": "markdown",
      "source": [
        "# Question 3"
      ],
      "metadata": {
        "id": "H8KUquxHiCfc"
      }
    },
    {
      "cell_type": "code",
      "source": [
        "def backward(y, params, yhat, cache, act_der, loss_func):\n",
        "  L = len(params) // 2\n",
        "  m = y.shape[0]\n",
        "  \n",
        "  if loss_func == 'cross_entropy':\n",
        "    loss_func_ = cross_entropy\n",
        "    loss_func_der = cross_entropy_der\n",
        "  elif loss_func == 'mean_squared_error':\n",
        "    loss_func_ = mean_squared_error\n",
        "    loss_func_der = mean_squared_error_der\n",
        "  else:\n",
        "    raise Exception('Incorrect Loss Function')\n",
        "  loss = loss_func_(y, yhat)\n",
        "  acc = accuracy(y, yhat)\n",
        "  del_params = {} \n",
        "  del_ak = loss_func_der(y, yhat)\n",
        "  for k in range(L, 0, -1):\n",
        "    del_params['W' + str(k)] = (cache['H' + str(k-1)].T @ del_ak) / m\n",
        "    del_params['B' + str(k)] = np.sum(del_ak, axis=0, keepdims=True) / m\n",
        "    if k != 1:\n",
        "      del_ak = (del_ak @ params['W' + str(k)].T) * act_der(cache['A' + str(k-1)])\n",
        "  return del_params, loss, acc\n"
      ],
      "metadata": {
        "id": "LXf0oagRztaP"
      },
      "execution_count": 24,
      "outputs": []
    },
    {
      "cell_type": "code",
      "source": [
        "def train(xtrain, ytrain, n_hidden, activation = 'sigmoid', loss_func = 'cross_entropy', optim = 'SGD', momentum=0.9, LR=1e-2, EPOCHS=100, BATCH_SIZE=32, seed=None):\n",
        "  if seed is not None:\n",
        "    np.random.seed(0)\n",
        "  params = init_params(n_inp = xtrain.shape[1], n_hidden = n_hidden, n_out = ytrain.shape[1], seed = seed)\n",
        "\n",
        "  act, act_der = get_activation(activation)\n",
        "\n",
        "  U = {k:0 for k in params.keys()}\n",
        "\n",
        "  for i in range(1, EPOCHS+1):\n",
        "\n",
        "    # if optim == 'SGD':\n",
        "    #   batches = np.arange(xtrain.shape[0])\n",
        "    #   np.random.shuffle(batches)\n",
        "    #   batches = [[k] for k in batches]\n",
        "    # else:\n",
        "    #   temp = np.arange(xtrain.shape[0])\n",
        "    #   np.random.shuffle(temp)\n",
        "    #   n_batches = xtrain.shape[0] // BATCH_SIZE\n",
        "    #   batches = temp[:n_batches*BATCH_SIZE].reshape(-1, BATCH_SIZE).tolist()\n",
        "    #   if  xtrain.shape[0] % BATCH_SIZE != 0:\n",
        "    #     batches = batches + [temp[n_batches*BATCH_SIZE:].tolist()]\n",
        "\n",
        "    temp = np.arange(xtrain.shape[0])\n",
        "    np.random.shuffle(temp)\n",
        "    n_batches = xtrain.shape[0] // BATCH_SIZE\n",
        "    batches = temp[:n_batches*BATCH_SIZE].reshape(-1, BATCH_SIZE).tolist()\n",
        "    if  xtrain.shape[0] % BATCH_SIZE != 0:\n",
        "      batches = batches + [temp[n_batches*BATCH_SIZE:].tolist()]\n",
        "\n",
        "    loss = []\n",
        "    acc = []\n",
        "\n",
        "    for batch in batches:\n",
        "      yhat, cache = forward(xtrain[batch, :], params, act)\n",
        "      del_params, _loss, _acc = backward(ytrain[batch], params, yhat, cache, act_der, loss_func) \n",
        "      loss.append(_loss)\n",
        "      acc.append(_acc)\n",
        "\n",
        "      if optim == 'SGD':\n",
        "        for k in params.keys():\n",
        "          params[k] = params[k] - LR * del_params[k]\n",
        "      elif optim == 'MomentumGD':\n",
        "        for k in params.keys():\n",
        "          U[k] = momentum * U[k] + del_params[k]\n",
        "          params[k] = params[k] - LR * U[k]\n",
        "      else:\n",
        "        raise Exception('Incorrect Optimizer')\n",
        "\n",
        "    if i % 1 == 0:\n",
        "      print(f'Epoch: {i}: Loss: {np.mean(loss)}, Accuracy: {np.sum(acc)/ytrain.shape[0]}')\n",
        "      \n",
        "  yhat, cache = forward(xtrain, params, act)\n",
        "  _, loss, acc = backward(ytrain, params, yhat, cache, act_der, loss_func) \n",
        "  print(f'Final: Loss: {loss} Accuracy: {acc/ytrain.shape[0]}') \n",
        "  return yhat"
      ],
      "metadata": {
        "id": "ZyQ0l1vLucRm"
      },
      "execution_count": 29,
      "outputs": []
    },
    {
      "cell_type": "markdown",
      "source": [
        "## Testing"
      ],
      "metadata": {
        "id": "PmSqPDrHu0rt"
      }
    },
    {
      "cell_type": "code",
      "source": [
        "train(xtrain=xtrain_inp, ytrain=ytrain_inp, n_hidden=[64, 32], activation='sigmoid', loss_func='cross_entropy', optim='MomentumGD', momentum=0.9, LR=1e-2, EPOCHS=20, BATCH_SIZE=64, seed=0)"
      ],
      "metadata": {
        "colab": {
          "base_uri": "https://localhost:8080/"
        },
        "id": "DJR6PqDqu0RA",
        "outputId": "f342d003-d307-40ed-b752-c49d1fdb709e"
      },
      "execution_count": 30,
      "outputs": [
        {
          "output_type": "stream",
          "name": "stdout",
          "text": [
            "Epoch: 1: Loss: 2.3053029287497084, Accuracy: 0.10136666666666666\n",
            "Epoch: 2: Loss: 2.3051309819368355, Accuracy: 0.09918333333333333\n",
            "Epoch: 3: Loss: 2.143731335985399, Accuracy: 0.16336666666666666\n",
            "Epoch: 4: Loss: 1.5194865052145652, Accuracy: 0.37543333333333334\n",
            "Epoch: 5: Loss: 1.1328525376947935, Accuracy: 0.5598666666666666\n",
            "Epoch: 6: Loss: 0.857079517146345, Accuracy: 0.6706666666666666\n",
            "Epoch: 7: Loss: 0.7171802980025881, Accuracy: 0.7156166666666667\n",
            "Epoch: 8: Loss: 0.6437470389893764, Accuracy: 0.7527\n",
            "Epoch: 9: Loss: 0.5899970236170056, Accuracy: 0.7778\n",
            "Epoch: 10: Loss: 0.5478243145604209, Accuracy: 0.7986833333333333\n",
            "Epoch: 11: Loss: 0.5132377003372696, Accuracy: 0.8155166666666667\n",
            "Epoch: 12: Loss: 0.48402261955007797, Accuracy: 0.8302666666666667\n",
            "Epoch: 13: Loss: 0.459800030225839, Accuracy: 0.8386166666666667\n",
            "Epoch: 14: Loss: 0.43783436069534126, Accuracy: 0.846\n",
            "Epoch: 15: Loss: 0.4216585541733573, Accuracy: 0.85135\n",
            "Epoch: 16: Loss: 0.4075225863796553, Accuracy: 0.8557833333333333\n",
            "Epoch: 17: Loss: 0.3958674498742297, Accuracy: 0.8604666666666667\n",
            "Epoch: 18: Loss: 0.3858193215811959, Accuracy: 0.8633333333333333\n",
            "Epoch: 19: Loss: 0.3760058302601743, Accuracy: 0.8667333333333334\n",
            "Epoch: 20: Loss: 0.368587057231082, Accuracy: 0.8689166666666667\n",
            "Final: Loss: 0.3638046669910281 Accuracy: 0.86955\n"
          ]
        },
        {
          "output_type": "execute_result",
          "data": {
            "text/plain": [
              "array([[3.63085626e-08, 5.74501518e-12, 3.26879766e-08, ...,\n",
              "        1.62068149e-02, 2.19942119e-05, 9.82196298e-01],\n",
              "       [9.79259602e-01, 1.85731542e-03, 1.94469830e-03, ...,\n",
              "        3.23454035e-11, 6.48584319e-06, 8.18565471e-11],\n",
              "       [4.81435768e-01, 4.45080038e-02, 2.09733300e-02, ...,\n",
              "        2.95648396e-06, 5.58193181e-04, 3.70469468e-07],\n",
              "       ...,\n",
              "       [2.56179382e-03, 2.20864005e-03, 6.78471245e-04, ...,\n",
              "        9.75152031e-05, 1.06129930e-04, 2.64956960e-07],\n",
              "       [8.13732348e-01, 4.55926787e-02, 5.99869244e-02, ...,\n",
              "        7.22000066e-09, 2.50975029e-04, 2.51143516e-09],\n",
              "       [1.56790977e-04, 1.66145050e-06, 2.20134044e-05, ...,\n",
              "        4.98606397e-03, 3.77146335e-03, 2.95695397e-04]])"
            ]
          },
          "metadata": {},
          "execution_count": 30
        }
      ]
    },
    {
      "cell_type": "code",
      "source": [],
      "metadata": {
        "id": "T-z2HKtbdPWA"
      },
      "execution_count": null,
      "outputs": []
    }
  ]
}