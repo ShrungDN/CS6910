{
  "nbformat": 4,
  "nbformat_minor": 0,
  "metadata": {
    "colab": {
      "provenance": []
    },
    "kernelspec": {
      "name": "python3",
      "display_name": "Python 3"
    },
    "language_info": {
      "name": "python"
    }
  },
  "cells": [
    {
      "cell_type": "code",
      "execution_count": 1,
      "metadata": {
        "id": "Uj-ovOzis8pa"
      },
      "outputs": [],
      "source": [
        "import numpy as np\n",
        "import pandas as pd\n",
        "import matplotlib.pyplot as plt\n",
        "\n",
        "from sklearn.model_selection import train_test_split"
      ]
    },
    {
      "cell_type": "code",
      "source": [
        "dataset = 'fashion_mnist'\n",
        "\n",
        "if dataset == 'fashion_mnist':\n",
        "  from keras.datasets import fashion_mnist\n",
        "  (xfull, yfull), (xtest, ytest) = fashion_mnist.load_data()\n",
        "  class_labels = {0: 'T-Shirt',\n",
        "                1: 'Trouser',\n",
        "                2: 'Pullover',\n",
        "                3: 'Dress',\n",
        "                4: 'Coat',\n",
        "                5: 'Sandal',\n",
        "                6: 'Shirt',\n",
        "                7: 'Sneaker',\n",
        "                8: 'Bag',\n",
        "                9: 'Ankle Boot'}\n",
        "\n",
        "elif dataset == 'mnist':\n",
        "  from keras.datasets import mnist\n",
        "  (xfull, yfull), (xtest, ytest) = mnist.load_data()\n",
        "  class_labels = {0: '0',\n",
        "                1: '1',\n",
        "                2: '2',\n",
        "                3: '3',\n",
        "                4: '4',\n",
        "                5: '5',\n",
        "                6: '6',\n",
        "                7: '7',\n",
        "                8: '8',\n",
        "                9: '9'}\n",
        "\n",
        "else:\n",
        "  raise Exception('Incorrect Dataset Name')\n",
        "\n",
        "xtrain, xval, ytrain, yval = train_test_split(xfull, yfull, test_size = 0.1)\n",
        "\n",
        "print('X Train Shape: ', xtrain.shape)\n",
        "print('Y Train Shape: ', ytrain.shape)\n",
        "print('X Validation Shape: ', xval.shape)\n",
        "print('Y Validation Shape: ', yval.shape)\n",
        "print('X Test Shape: ', xtest.shape)\n",
        "print('Y Test Shape: ', ytest.shape)\n",
        "print('Number of classes: ', len(set(ytrain)))"
      ],
      "metadata": {
        "colab": {
          "base_uri": "https://localhost:8080/"
        },
        "id": "1_GBiXg7t6SE",
        "outputId": "f9161fe5-36f6-4885-caec-f8c4837a487c"
      },
      "execution_count": 2,
      "outputs": [
        {
          "output_type": "stream",
          "name": "stdout",
          "text": [
            "X Train Shape:  (54000, 28, 28)\n",
            "Y Train Shape:  (54000,)\n",
            "X Validation Shape:  (6000, 28, 28)\n",
            "Y Validation Shape:  (6000,)\n",
            "X Test Shape:  (10000, 28, 28)\n",
            "Y Test Shape:  (10000,)\n",
            "Number of classes:  10\n"
          ]
        }
      ]
    },
    {
      "cell_type": "markdown",
      "source": [
        "## TRY USING STANDARD SCALAR HERE"
      ],
      "metadata": {
        "id": "9jbntDfvmiDj"
      }
    },
    {
      "cell_type": "code",
      "source": [
        "xtrain_inp = xtrain.reshape((xtrain.shape[0], -1))/255.0\n",
        "xval_inp = xval.reshape((xval.shape[0], -1))/255.0\n",
        "xtest_inp = xtest.reshape((xtest.shape[0], -1))/255.0\n",
        "ytrain_inp = np.array(pd.get_dummies(ytrain))\n",
        "yval_inp = np.array(pd.get_dummies(yval))\n",
        "ytest_inp = np.array(pd.get_dummies(ytest))"
      ],
      "metadata": {
        "id": "xLpT3k3vuJIX"
      },
      "execution_count": 3,
      "outputs": []
    },
    {
      "cell_type": "markdown",
      "source": [
        "# Question 1"
      ],
      "metadata": {
        "id": "qQA02Z_XtdRr"
      }
    },
    {
      "cell_type": "code",
      "source": [
        "i = 5 # can change to view different images\n",
        "idxs = {k:np.where(ytrain==k)[0][i] for k in set(ytrain)}\n",
        "fig, axs = plt.subplots(2, 5, figsize=(15,5))\n",
        "for i, ax in enumerate(axs.flatten()):\n",
        "  ax.imshow(xtrain[idxs[i], :, :], cmap='gray')\n",
        "  ax.set_title(class_labels[i])\n",
        "  ax.axis('off')"
      ],
      "metadata": {
        "colab": {
          "base_uri": "https://localhost:8080/",
          "height": 319
        },
        "id": "PCl0Riy4uHSG",
        "outputId": "668f070e-b7b2-468b-9802-adfcc171adcf"
      },
      "execution_count": 4,
      "outputs": [
        {
          "output_type": "display_data",
          "data": {
            "text/plain": [
              "<Figure size 1080x360 with 10 Axes>"
            ],
            "image/png": "[encoded data removed]"
          },
          "metadata": {
            "needs_background": "light"
          }
        }
      ]
    },
    {
      "cell_type": "markdown",
      "source": [
        "## Helper Functions"
      ],
      "metadata": {
        "id": "_cJOMDhjuj5p"
      }
    },
    {
      "cell_type": "code",
      "source": [
        "def sigmoid(x):\n",
        "  return 1/(1+np.exp(-x))\n",
        "\n",
        "def sigmoid_der(x):\n",
        "  return sigmoid(x) * (1-sigmoid(x))\n",
        "\n",
        "def relu(x):\n",
        "  return np.maximum(0, x)\n",
        "\n",
        "def relu_der(x):\n",
        "  x[x>0] = 1\n",
        "  x[x<=0] = 0\n",
        "  return x\n",
        "\n",
        "def tanh(x):\n",
        "  return (np.exp(x) - np.exp(-x)) / (np.exp(x) + np.exp(-x))\n",
        "\n",
        "def tanh_der(x):\n",
        "  return 1 - tanh(x) ** 2\n",
        "\n",
        "def identity(x):\n",
        "  return x\n",
        "\n",
        "def identity_der(x):\n",
        "  return np.ones(x.shape)\n",
        "\n",
        "def get_activation(act):\n",
        "  if act == 'sigmoid':\n",
        "    act = sigmoid\n",
        "    act_der = sigmoid_der\n",
        "  elif act == 'ReLU':\n",
        "    act = relu\n",
        "    act_der = relu_der\n",
        "  elif act== 'tanh':\n",
        "    act = tanh\n",
        "    act_der = tanh_der\n",
        "  elif act == 'identity':\n",
        "    act = identity\n",
        "    act_der = identity_der\n",
        "  else:\n",
        "    raise Exception('Incorrect Activation Function')\n",
        "  return act, act_der\n",
        "\n",
        "def softmax(x):\n",
        "  xsum = np.sum(np.exp(x), axis=1, keepdims=True)\n",
        "  res = np.exp(x)/xsum\n",
        "  return res\n",
        "\n",
        "def cross_entropy(y, yhat):\n",
        "  \"\"\" \n",
        "  Returns Average Cross Entropy Loss over the input data points\n",
        "  - Epsilon is used so that log is not taken over 0\n",
        "  \"\"\"\n",
        "  epsilon = 1e-30\n",
        "  losses = -np.sum(y * np.log(yhat + epsilon), axis=1)\n",
        "  return np.mean(losses)\n",
        "\n",
        "def cross_entropy_der(y, yhat):\n",
        "  return -(y - yhat)\n",
        "\n",
        "def mean_squared_error(y, yhat):\n",
        "  return np.mean(np.sum((y-yhat)**2, axis=1))\n",
        "\n",
        "def mean_squared_error_der(y, yhat):\n",
        "  pass\n",
        "\n",
        "def accuracy(y, yhat):\n",
        "  return np.sum(np.argmax(y, axis=1) ==  np.argmax(yhat, axis=1))"
      ],
      "metadata": {
        "id": "Swh1ShRbujQ0"
      },
      "execution_count": 5,
      "outputs": []
    },
    {
      "cell_type": "markdown",
      "source": [
        "# Question 2"
      ],
      "metadata": {
        "id": "aGoV6G1NyLon"
      }
    },
    {
      "cell_type": "code",
      "source": [
        "def init_params(n_inp, n_hidden, n_out, seed=None):\n",
        "  if seed is not None:\n",
        "    np.random.seed(seed)\n",
        "  NN = [n_inp] + n_hidden + [n_out]\n",
        "  params = {}\n",
        "  for i in range(1, len(NN)):\n",
        "    params['W' + str(i)] = np.random.randn(NN[i-1], NN[i]) * 0.01\n",
        "    params['B' + str(i)] = np.zeros((1, NN[i]))\n",
        "  return params\n",
        "\n",
        "def forward(inp, params, activation):\n",
        "  L = len(params) // 2\n",
        "  cache = {'H0':inp}\n",
        "  for i in range(1, L+1):\n",
        "    cache['A' + str(i)] = cache['H' + str(i-1)] @ params['W' + str(i)] + params['B' + str(i)]\n",
        "    cache['H' + str(i)] = sigmoid(cache['A' + str(i)])\n",
        "  cache['A' + str(L)] = cache['H' + str(L-1)] @ params['W' + str(L)] + params['B' + str(L)]\n",
        "  cache['H' + str(L)] = softmax(cache['A' + str(L)])\n",
        "  yhat = cache['H' + str(L)]\n",
        "  return yhat, cache"
      ],
      "metadata": {
        "id": "xd-5vdzBuW52"
      },
      "execution_count": 6,
      "outputs": []
    },
    {
      "cell_type": "markdown",
      "source": [
        "# Question 3"
      ],
      "metadata": {
        "id": "H8KUquxHiCfc"
      }
    },
    {
      "cell_type": "code",
      "source": [
        "def backward(y, params, yhat, cache, act_der, loss_func):\n",
        "  L = len(params) // 2\n",
        "  m = y.shape[0]\n",
        "  \n",
        "  if loss_func == 'cross_entropy':\n",
        "    loss_func_ = cross_entropy\n",
        "    loss_func_der = cross_entropy_der\n",
        "  elif loss_func == 'mean_squared_error':\n",
        "    loss_func_ = mean_squared_error\n",
        "    loss_func_der = mean_squared_error_der\n",
        "  else:\n",
        "    raise Exception('Incorrect Loss Function')\n",
        "  loss = loss_func_(y, yhat)\n",
        "  acc = accuracy(y, yhat)\n",
        "  del_params = {} \n",
        "  del_ak = loss_func_der(y, yhat)\n",
        "  for k in range(L, 0, -1):\n",
        "    del_params['W' + str(k)] = (cache['H' + str(k-1)].T @ del_ak) / m\n",
        "    del_params['B' + str(k)] = np.sum(del_ak, axis=0, keepdims=True) / m\n",
        "    if k != 1:\n",
        "      del_ak = (del_ak @ params['W' + str(k)].T) * act_der(cache['A' + str(k-1)])\n",
        "  return del_params, loss, acc\n"
      ],
      "metadata": {
        "id": "LXf0oagRztaP"
      },
      "execution_count": 7,
      "outputs": []
    },
    {
      "cell_type": "markdown",
      "source": [
        "# how exactly to do derivative rectification in adam and nadam? does the \"i\" in slides refer to the number of epochs or the epochs and number of batches done (i.e. number of updates)?"
      ],
      "metadata": {
        "id": "MC3Q9BYARb-X"
      }
    },
    {
      "cell_type": "code",
      "source": [
        "def train(xtrain, ytrain, xval, yval, n_hidden, config, seed=None):\n",
        "\n",
        "  activation = config['activation']\n",
        "  loss_func = config['loss_func']\n",
        "  optim = config['optim']\n",
        "  MOMENTUM = config['MOMENTUM']\n",
        "  BETA = config['BETA']\n",
        "  BETA1 = config['BETA1']\n",
        "  BETA2 = config['BETA2']\n",
        "  EPSILON = config['EPSILON']\n",
        "  LR = config['LR']\n",
        "  BATCH_SIZE = config['BATCH_SIZE']\n",
        "  EPOCHS = config['EPOCHS']\n",
        "\n",
        "  if seed is not None:\n",
        "    np.random.seed(0)\n",
        "  params = init_params(n_inp = xtrain.shape[1], n_hidden = n_hidden, n_out = ytrain.shape[1], seed = seed)\n",
        "\n",
        "  # if optim=='adam':\n",
        "  #   for k in params:\n",
        "  #     params[k] = params[k].astype(np.float128)\n",
        "\n",
        "  act, act_der = get_activation(activation)\n",
        "\n",
        "  U = {k:0 for k in params.keys()}\n",
        "  V = {k:0 for k in params.keys()}\n",
        "\n",
        "  for i in range(1, EPOCHS+1):\n",
        "\n",
        "    # if optim == 'SGD':\n",
        "    #   batches = np.arange(xtrain.shape[0])\n",
        "    #   np.random.shuffle(batches)\n",
        "    #   batches = [[k] for k in batches]\n",
        "    # else:\n",
        "    #   temp = np.arange(xtrain.shape[0])\n",
        "    #   np.random.shuffle(temp)\n",
        "    #   n_batches = xtrain.shape[0] // BATCH_SIZE\n",
        "    #   batches = temp[:n_batches*BATCH_SIZE].reshape(-1, BATCH_SIZE).tolist()\n",
        "    #   if  xtrain.shape[0] % BATCH_SIZE != 0:\n",
        "    #     batches = batches + [temp[n_batches*BATCH_SIZE:].tolist()]\n",
        "\n",
        "    temp = np.arange(xtrain.shape[0])\n",
        "    np.random.shuffle(temp)\n",
        "    n_batches = xtrain.shape[0] // BATCH_SIZE\n",
        "    batches = temp[:n_batches*BATCH_SIZE].reshape(-1, BATCH_SIZE).tolist()\n",
        "    if  xtrain.shape[0] % BATCH_SIZE != 0:\n",
        "      batches = batches + [temp[n_batches*BATCH_SIZE:].tolist()]\n",
        "\n",
        "    loss = []\n",
        "    acc = []\n",
        "\n",
        "    for j, batch in enumerate(batches):\n",
        "      if optim == 'sgd':\n",
        "        yhat, cache = forward(xtrain[batch, :], params, act)\n",
        "        del_params, _loss, _acc = backward(ytrain[batch], params, yhat, cache, act_der, loss_func) \n",
        "        for k in params.keys():\n",
        "          params[k] = params[k] - LR * del_params[k]\n",
        "\n",
        "      elif optim == 'momentum':\n",
        "        yhat, cache = forward(xtrain[batch, :], params, act)\n",
        "        del_params, _loss, _acc = backward(ytrain[batch], params, yhat, cache, act_der, loss_func) \n",
        "        for k in params.keys():\n",
        "          U[k] = MOMENTUM * U[k] + del_params[k]\n",
        "          params[k] = params[k] - LR * U[k]\n",
        "\n",
        "      elif optim == 'nag':\n",
        "        # params Look ahead\n",
        "        params_LA = {k: (params[k] - MOMENTUM * U[k]) for k in params.keys()}\n",
        "        yhat, cache = forward(xtrain[batch, :], params_LA, act)\n",
        "        del_params, _loss, _acc = backward(ytrain[batch], params_LA, yhat, cache, act_der, loss_func) \n",
        "        for k in params.keys():\n",
        "          U[k] = MOMENTUM * U[k] + del_params[k]\n",
        "          params[k] = params[k] - LR * U[k]\n",
        "\n",
        "      elif optim == 'rmsprop':\n",
        "        yhat, cache = forward(xtrain[batch, :], params, act)\n",
        "        del_params, _loss, _acc = backward(ytrain[batch], params, yhat, cache, act_der, loss_func) \n",
        "        for k in params.keys():\n",
        "          V[k] = BETA * V[k] + (1-BETA) * (del_params[k] ** 2)\n",
        "          params[k] = params[k] - (LR / np.sqrt(V[k] + EPSILON)) * del_params[k]\n",
        "\n",
        "      elif optim=='adam':\n",
        "        yhat, cache = forward(xtrain[batch, :], params, act)\n",
        "        del_params, _loss, _acc = backward(ytrain[batch], params, yhat, cache, act_der, loss_func) \n",
        "        n_updates = (i-1) * len(batches) + (j+1)\n",
        "        for k in params.keys():\n",
        "          U[k] = BETA1 * U[k] + (1-BETA1) * del_params[k]\n",
        "          Uk_hat = U[k] / (1-BETA1**n_updates)\n",
        "          V[k] = BETA2 * V[k] + (1-BETA2) * del_params[k]**2\n",
        "          Vk_hat = V[k] / (1-BETA2**n_updates)\n",
        "          params[k] = params[k] - (LR / (np.sqrt(Vk_hat) + EPSILON)) * Uk_hat\n",
        "\n",
        "      elif optim=='nadam':\n",
        "        yhat, cache = forward(xtrain[batch, :], params, act)\n",
        "        del_params, _loss, _acc = backward(ytrain[batch], params, yhat, cache, act_der, loss_func) \n",
        "        n_updates = (i-1) * len(batches) + (j+1)\n",
        "        for k in params.keys():\n",
        "          U[k] = BETA1 * U[k] + (1-BETA1) * del_params[k]\n",
        "          Uk_hat = U[k] / (1-BETA1**n_updates)\n",
        "          V[k] = BETA2 * V[k] + (1-BETA2) * del_params[k]**2\n",
        "          Vk_hat = V[k] / (1-BETA2**n_updates)\n",
        "          params[k] = params[k] - (LR / (np.sqrt(Vk_hat) + EPSILON)) * (BETA1 * Uk_hat + (1 - BETA1) * del_params[k] / (1 - BETA1**n_updates))\n",
        "          \n",
        "      else:\n",
        "        raise Exception('Incorrect Optimizer')\n",
        "      \n",
        "      loss.append(_loss)\n",
        "      acc.append(_acc)\n",
        "\n",
        "    \n",
        "    if (i % 10 == 0):\n",
        "      if xval is None:\n",
        "        print(f'Epoch {i}:: Training: Loss = {np.mean(loss):.4f} Accuracy = {np.sum(acc)/ytrain.shape[0]:.4f}')\n",
        "      elif xval is not None and yval is not None:\n",
        "        yhat, cache = forward(xval, params, act)\n",
        "        _, loss_val, acc_val = backward(yval, params, yhat, cache, act_der, loss_func)\n",
        "        print(f'Epoch {i}:: Training: Loss = {np.mean(loss):.4f} Accuracy = {np.sum(acc)/ytrain.shape[0]:.4f}  Validation: Loss = {loss_val:.4f} Accuracy = {acc_val/yval.shape[0]:.4f}')\n",
        "      \n",
        "  # yhat, cache = forward(xtrain, params, act)\n",
        "  # _, loss, acc = backward(ytrain, params, yhat, cache, act_der, loss_func) \n",
        "  # print(f'Final:: Training: Loss = {loss:.4f} Accuracy = {acc/ytrain.shape[0]:.4f}') \n",
        "  return params"
      ],
      "metadata": {
        "id": "ZyQ0l1vLucRm"
      },
      "execution_count": 8,
      "outputs": []
    },
    {
      "cell_type": "markdown",
      "source": [
        "## Testing"
      ],
      "metadata": {
        "id": "PmSqPDrHu0rt"
      }
    },
    {
      "cell_type": "code",
      "source": [
        "config = {'activation': 'sigmoid',\n",
        "          'loss_func': 'cross_entropy',\n",
        "          'optim': 'nadam',\n",
        "          'MOMENTUM': 0.9,\n",
        "          'BETA': 0.9,\n",
        "          'BETA1': 0.9,\n",
        "          'BETA2': 0.999, \n",
        "          'EPSILON': 0.000001,\n",
        "          'LR': 1e-2,\n",
        "          'BATCH_SIZE': 64, \n",
        "          'EPOCHS': 10}\n",
        "\n",
        "train(xtrain=xtrain_inp, ytrain=ytrain_inp, xval=xval_inp, yval=yval_inp, n_hidden=[64, 32], config=config, seed=0)"
      ],
      "metadata": {
        "colab": {
          "base_uri": "https://localhost:8080/"
        },
        "id": "DJR6PqDqu0RA",
        "outputId": "9d2e8f1b-64fe-4047-9dc3-bcb124c37cb7"
      },
      "execution_count": 9,
      "outputs": [
        {
          "output_type": "stream",
          "name": "stdout",
          "text": [
            "Epoch 10:: Training: Loss = 0.3535 Accuracy = 0.8700  Validation: Loss = 0.3659 Accuracy = 0.8713\n"
          ]
        },
        {
          "output_type": "execute_result",
          "data": {
            "text/plain": [
              "{'W1': array([[-7.29966073e-01,  3.90403156e-03, -3.71375696e-02, ...,\n",
              "          1.30202640e-01,  5.41030308e-01, -1.86301194e-01],\n",
              "        [-6.62590240e-01, -1.16611249e-03, -7.38668900e-02, ...,\n",
              "         -2.75126723e-01,  2.74479519e-01,  4.80721455e-01],\n",
              "        [-1.54143829e+00,  3.05739600e-03,  8.92207790e-03, ...,\n",
              "          2.11736708e+00,  1.05585142e+00, -3.35680539e-02],\n",
              "        ...,\n",
              "        [-8.67791512e-01,  3.36615295e-01,  5.88461623e-02, ...,\n",
              "          1.82809338e+00,  3.00485096e-01,  6.79269797e-01],\n",
              "        [-9.05914593e-02,  1.83463079e-02,  4.01190028e-02, ...,\n",
              "          8.97355432e-01,  4.71242413e-01,  4.21833940e-01],\n",
              "        [ 1.35002869e-01,  8.80285237e-03, -6.95420005e-03, ...,\n",
              "          8.03119230e-01,  4.80965444e-01,  1.57395330e-01]]),\n",
              " 'B1': array([[ 0.17312965, -0.20862836, -0.58581188,  0.69505812, -0.18180674,\n",
              "          0.64657678,  3.02468771, -0.13784907, -0.23345324, -1.15865962,\n",
              "         -2.56182034,  0.08973431, -2.13003444, -0.79944166,  0.93160724,\n",
              "          0.13024538,  1.51828744,  1.16637738, -0.56456376,  1.10878685,\n",
              "          0.15176031,  0.31694444, -1.0955056 , -0.75697362,  3.51050392,\n",
              "         -1.54716199, -1.10785633,  3.01230702, -0.54621378, -0.15916162,\n",
              "         -1.58161472,  0.75045019,  0.2317837 , -0.4572997 ,  1.45729375,\n",
              "          2.20910782,  2.71616938,  1.59274123,  0.291312  , -1.43717783,\n",
              "          1.42610447, -2.37555781, -0.89450701,  0.09363683,  0.20735899,\n",
              "          0.16652927, -0.64325329, -0.69221598, -1.16035619,  2.45564604,\n",
              "          1.5868311 , -0.96040172,  0.1875973 , -1.24971895,  0.35105444,\n",
              "          1.08549996,  1.213561  ,  1.33911428, -0.0570556 , -0.90371942,\n",
              "          0.83549378,  3.38915698,  0.08631453, -1.45953184]]),\n",
              " 'W2': array([[-0.68848923,  0.41389002, -1.22890037, ...,  1.75038258,\n",
              "          0.26877572, -1.01350661],\n",
              "        [ 0.21636154,  0.28796896,  0.81945198, ...,  0.18963288,\n",
              "         -0.4361051 ,  0.3341768 ],\n",
              "        [ 0.14333213, -0.33213801,  1.1339634 , ..., -0.20497825,\n",
              "         -1.02924709,  0.51604487],\n",
              "        ...,\n",
              "        [-0.18798681,  0.51429764, -0.67718558, ...,  0.03455472,\n",
              "          0.03008585, -1.89695685],\n",
              "        [-0.72481265, -0.74929585,  0.09452517, ...,  0.42310219,\n",
              "         -1.87108844, -0.53938796],\n",
              "        [-0.56762492,  1.35792098, -0.10197107, ...,  4.44674252,\n",
              "         -0.32738096, -1.10801815]]),\n",
              " 'B2': array([[ 0.69342631,  0.27112986,  1.14104015,  0.74981715,  0.67177847,\n",
              "          1.02278877,  0.64348278,  0.53737061,  1.02389651,  0.35309271,\n",
              "          0.32790282,  0.48959447,  0.43791431,  1.08618492, -0.16586784,\n",
              "          0.09863548,  0.37152032,  0.27274185,  0.93840393,  0.08303013,\n",
              "          0.48621306,  0.77780159,  1.00587659,  0.52144347,  0.73282596,\n",
              "          0.0603319 ,  0.73612047,  0.96015905,  0.42723023,  0.22856966,\n",
              "         -0.27603954,  0.78119824]]),\n",
              " 'W3': array([[ 0.7069984 , -1.86774191, -0.60508313, -1.76616207, -0.85271333,\n",
              "          0.11618097,  0.62439309, -0.98864541,  0.13654881,  0.50121021],\n",
              "        [ 0.84855943, -1.88341578, -0.61976878, -1.28332145, -1.02169886,\n",
              "          0.66670008, -0.92922073,  0.37468323, -1.76249028,  0.28285113],\n",
              "        [-0.61561717, -0.46995773, -0.61415229, -0.52871241, -0.08127145,\n",
              "          0.89154408,  0.65618672, -1.19026836,  0.62554627, -0.05199513],\n",
              "        [ 1.37845973, -0.53369969, -0.3903191 , -1.12934818, -1.71344412,\n",
              "          0.94403132,  0.58768022, -1.05261238,  0.24704912, -0.2302738 ],\n",
              "        [-0.41406628, -2.41184422, -0.63964863, -1.30440605, -1.71141557,\n",
              "          0.73042881, -0.83734004,  0.593373  , -1.15283347,  0.21712733],\n",
              "        [-1.12076611, -0.81256612, -0.40237868, -0.09431338, -0.07594382,\n",
              "          1.08741394,  0.58191773, -1.18344503,  0.15281119, -0.17749494],\n",
              "        [-1.00812617, -0.36075104,  1.19554705, -1.50917654,  1.07078809,\n",
              "         -0.67179588,  0.63611622, -0.66667137, -0.20022681, -2.14709285],\n",
              "        [-0.94149459, -1.07939782, -0.89862276, -2.22137426, -0.621721  ,\n",
              "          0.93055456, -1.57955306,  0.56539875, -1.22201807,  0.20283544],\n",
              "        [-0.57766901, -1.06682165, -1.13458398, -0.63326031,  0.10695117,\n",
              "          1.11452783,  0.71304837, -1.41852852, -1.21572816,  0.45621272],\n",
              "        [-2.29092971,  0.1490563 , -0.94841433, -1.48298837, -0.91860953,\n",
              "          0.74070718, -1.66032265,  0.40743419, -2.40193065,  0.76035208],\n",
              "        [-0.53491215, -0.73062383, -1.64782825,  1.40286255,  0.82210528,\n",
              "         -1.66297908,  0.35627786, -0.20416238,  0.92545075,  0.31465831],\n",
              "        [-0.93567568, -1.76622305, -1.65429812, -1.24669434, -1.51435741,\n",
              "          0.4871896 , -2.06567821,  0.77148682,  1.50017333, -0.30382776],\n",
              "        [-0.90399025, -0.86692926, -1.24187552, -0.13687472,  1.70081248,\n",
              "         -1.83481621,  0.2705696 , -0.02786189,  0.24872875,  0.31491117],\n",
              "        [-0.57610503, -1.45125675, -1.14256754, -0.95554866, -0.39237162,\n",
              "          0.5870025 , -1.36191115,  0.51419226,  1.40567839, -0.31516926],\n",
              "        [-0.99932257, -2.37061647,  1.30837022, -3.19426275,  0.74205916,\n",
              "         -0.38489659,  0.21696175, -0.90705103, -0.79348593, -1.11312225],\n",
              "        [-1.22967118, -1.33956464,  1.291068  , -1.2510248 ,  0.43002324,\n",
              "         -0.27809091,  0.24711944, -0.88541423, -0.01697604, -1.51493833],\n",
              "        [-0.87892048, -0.95763473,  0.61845856,  1.33801239,  0.36947606,\n",
              "         -1.83838576,  0.15709347, -0.47277439, -0.69267895,  0.19068381],\n",
              "        [-1.48174746,  0.22574706, -0.47696733, -1.47996417, -1.20853418,\n",
              "          0.70355467, -1.70816274,  0.49679429, -1.6154873 ,  0.36980672],\n",
              "        [ 0.20304391, -2.10570263, -1.59599382, -1.35636467, -0.95555832,\n",
              "          0.36281358, -1.48718352,  0.65335231,  0.98966378, -0.09789566],\n",
              "        [-2.46980906, -3.00216417, -0.08760494, -1.99898537, -0.4079733 ,\n",
              "         -0.85817733,  0.70836041,  1.12591518, -0.32567435,  0.70776902],\n",
              "        [-1.66998621, -0.91112143,  1.28164106, -0.37255722,  1.26010588,\n",
              "         -0.74484798, -0.72323604, -0.73424459,  0.46978267, -1.57664116],\n",
              "        [-0.28508078,  0.78215575, -0.89082977, -0.59413359, -0.57391787,\n",
              "         -0.73465924, -1.75563847, -0.35675915,  1.01560229,  1.35406606],\n",
              "        [-0.47866892, -0.0581799 ,  0.27503216, -2.01484909, -0.68822974,\n",
              "         -0.28637478, -0.75466407, -0.36357761,  1.47564643,  0.67962377],\n",
              "        [-0.59085891, -0.52436044,  0.52626592, -1.80889672,  0.97043915,\n",
              "         -1.60003312,  0.03414965, -0.28074731, -0.73471267,  1.26580717],\n",
              "        [ 0.99329543, -2.28353408, -0.35262686, -1.2551318 , -1.60483409,\n",
              "          0.42724733,  0.85334234, -0.96942943, -0.17702444,  0.47021535],\n",
              "        [ 1.66627952, -1.56819285,  0.43390024,  1.87257093, -0.1016447 ,\n",
              "         -2.60771225,  0.27560316, -3.04627916, -0.69099257, -2.44528462],\n",
              "        [-0.25191306, -2.50705853, -1.17960554, -1.19492292, -1.45306119,\n",
              "          0.85440046, -1.37380421,  0.61957246, -0.86611523,  0.14889422],\n",
              "        [ 0.36570492, -2.70729383, -1.55802296, -1.52780827, -2.22179581,\n",
              "          0.2216574 , -1.09393774,  0.79363908,  0.83243004, -0.06815052],\n",
              "        [ 1.5291184 , -0.46934014,  0.75320058, -1.391018  ,  0.09379362,\n",
              "         -1.08071464,  0.9750253 , -2.21993268, -1.05075726, -2.13088699],\n",
              "        [-1.28071138,  4.65344787, -1.76818461, -0.41496496, -1.41570463,\n",
              "          0.37301506, -1.97711817,  0.34840971, -1.73160645,  0.03252722],\n",
              "        [-0.92983102, -2.39161207,  0.10922867, -1.3429352 , -1.53284561,\n",
              "         -1.55415666,  1.3711394 ,  1.32448625,  0.30946053,  0.7323837 ],\n",
              "        [-1.49322213,  1.2087144 , -0.29060735, -0.41180057, -1.7587667 ,\n",
              "         -0.77377642, -1.05807911, -0.35563943,  1.01592102,  1.45669928]]),\n",
              " 'B3': array([[ 0.54120094,  4.14568282, -0.53919458,  1.81346194, -0.96246643,\n",
              "         -1.09287628, -0.98917612, -1.28934121, -1.61143578, -1.88345445]])}"
            ]
          },
          "metadata": {},
          "execution_count": 9
        }
      ]
    },
    {
      "cell_type": "code",
      "source": [],
      "metadata": {
        "id": "0J7hWgFQTlDW"
      },
      "execution_count": 9,
      "outputs": []
    }
  ]
}